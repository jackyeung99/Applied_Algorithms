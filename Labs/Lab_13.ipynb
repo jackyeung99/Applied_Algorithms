{
 "cells": [
  {
   "cell_type": "code",
   "execution_count": 19,
   "metadata": {},
   "outputs": [],
   "source": [
    "def checkTaskReallocationFeasibility(s: str, t: str, k: int) -> bool:\n",
    "    \n",
    "    if len(s) != len(t):\n",
    "        return False\n",
    "    \n",
    "    a_packets = []\n",
    "    t_packets = []\n",
    "    chunk_len = len(t) // k\n",
    "\n",
    "    for i in range(0, len(s), chunk_len):\n",
    "        a_packets.append(s[i: i+chunk_len])\n",
    "        t_packets.append(t[i: i+chunk_len])\n",
    "         \n",
    "    print(a_packets)\n",
    "    print(t_packets)\n",
    "    return sorted(a_packets) == sorted(t_packets)\n",
    "\n",
    "\n",
    "\n",
    "\n",
    "\n"
   ]
  },
  {
   "cell_type": "code",
   "execution_count": 20,
   "metadata": {},
   "outputs": [
    {
     "name": "stdout",
     "output_type": "stream",
     "text": [
      "['ab', 'cd']\n",
      "['cd', 'ab']\n"
     ]
    }
   ],
   "source": [
    "s = \"abcd\"\n",
    "t = \"cdab\"\n",
    "k = 2\n",
    "\n",
    "assert checkTaskReallocationFeasibility(s, t, k)"
   ]
  },
  {
   "cell_type": "code",
   "execution_count": 21,
   "metadata": {},
   "outputs": [
    {
     "name": "stdout",
     "output_type": "stream",
     "text": [
      "['aa', 'bb', 'cc']\n",
      "['bb', 'aa', 'cc']\n"
     ]
    }
   ],
   "source": [
    "s = \"aabbcc\"\n",
    "t = \"bbaacc\"\n",
    "k = 3\n",
    "assert checkTaskReallocationFeasibility(s, t, k)"
   ]
  },
  {
   "cell_type": "code",
   "execution_count": 22,
   "metadata": {},
   "outputs": [
    {
     "name": "stdout",
     "output_type": "stream",
     "text": [
      "['aab', 'bcc']\n",
      "['bba', 'acc']\n"
     ]
    }
   ],
   "source": [
    "s = \"aabbcc\"\n",
    "t = \"bbaacc\"\n",
    "k = 2\n",
    "assert not checkTaskReallocationFeasibility(s, t, k)"
   ]
  },
  {
   "cell_type": "code",
   "execution_count": null,
   "metadata": {},
   "outputs": [],
   "source": []
  },
  {
   "cell_type": "code",
   "execution_count": null,
   "metadata": {},
   "outputs": [],
   "source": []
  }
 ],
 "metadata": {
  "kernelspec": {
   "display_name": ".venv",
   "language": "python",
   "name": "python3"
  },
  "language_info": {
   "codemirror_mode": {
    "name": "ipython",
    "version": 3
   },
   "file_extension": ".py",
   "mimetype": "text/x-python",
   "name": "python",
   "nbconvert_exporter": "python",
   "pygments_lexer": "ipython3",
   "version": "3.10.12"
  }
 },
 "nbformat": 4,
 "nbformat_minor": 2
}
