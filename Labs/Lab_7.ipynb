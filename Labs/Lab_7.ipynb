{
 "cells": [
  {
   "cell_type": "markdown",
   "metadata": {},
   "source": [
    "Mia discovered a magical treehouse at the top of a staircase with n steps. To reach it, she could\n",
    "climb either 1 step or 2 steps at a time.\n",
    "She wondered, ”How many different ways can I reach the top?”\n",
    "Mia realized that if there was only 1 step, there was just 1 way to climb it. If there were 2\n",
    "steps, she could either take two 1-steps or one 2-step, making it 2 ways.\n",
    "Help Mia solve this problem by completing the reachTop function below.\n",
    "Test cases\n",
    "Input: 2\n",
    "Output: 2\n",
    "Explanation: There are two ways to climb to the top:\n",
    "1. 1 step + 1 step\n",
    "2. 2 steps\n",
    "Input: 3\n",
    "Output: 3\n",
    "Explanation: There are three ways to climb to the top:\n",
    "1. 1 step + 1 step + 1 step\n",
    "2. 1 step + 2 steps\n",
    "3. 2 steps + 1 step\n",
    "\n"
   ]
  },
  {
   "cell_type": "code",
   "execution_count": 39,
   "metadata": {},
   "outputs": [],
   "source": [
    "\n",
    "def reachTop(n: int) -> int:\n",
    "\n",
    "    # max number of steps = n \n",
    "    # least amount of steps = n/2      \n",
    "    # Find all different combinations switching 1s and twos \n",
    "    # dynamic programming approach with memoization\n",
    "    # start at smallest sub problem build up \n",
    "\n",
    "    if n == 2:\n",
    "        return 2\n",
    "    elif n == 1:\n",
    "        return 1 \n",
    "\n",
    "    steps = [1, 2]\n",
    "    \n",
    "    for n in range(2,n):\n",
    "        steps.append(steps[n-1] + steps[n-2])\n",
    "\n",
    "    return steps[-1]"
   ]
  },
  {
   "cell_type": "code",
   "execution_count": 40,
   "metadata": {},
   "outputs": [
    {
     "name": "stdout",
     "output_type": "stream",
     "text": [
      "3\n"
     ]
    }
   ],
   "source": [
    "print(reachTop(3))"
   ]
  },
  {
   "cell_type": "code",
   "execution_count": 41,
   "metadata": {},
   "outputs": [
    {
     "name": "stdout",
     "output_type": "stream",
     "text": [
      "8\n"
     ]
    }
   ],
   "source": [
    "print(reachTop(5))"
   ]
  },
  {
   "cell_type": "code",
   "execution_count": null,
   "metadata": {},
   "outputs": [],
   "source": []
  }
 ],
 "metadata": {
  "kernelspec": {
   "display_name": ".venv",
   "language": "python",
   "name": "python3"
  },
  "language_info": {
   "codemirror_mode": {
    "name": "ipython",
    "version": 3
   },
   "file_extension": ".py",
   "mimetype": "text/x-python",
   "name": "python",
   "nbconvert_exporter": "python",
   "pygments_lexer": "ipython3",
   "version": "3.10.12"
  }
 },
 "nbformat": 4,
 "nbformat_minor": 2
}
