{
 "cells": [
  {
   "cell_type": "code",
   "execution_count": 44,
   "metadata": {},
   "outputs": [],
   "source": [
    "def detect_longest_balanced_packet(dataStream):\n",
    "# Your code here\n",
    "    if len(dataStream) > 1:\n",
    "        \n",
    "        for i in range(len(dataStream)):\n",
    "            if dataStream[i].isupper():\n",
    "                x = dataStream[i].lower()\n",
    "                if x in dataStream:\n",
    "                    continue\n",
    "                else:\n",
    "\n",
    "                    left = detect_longest_balanced_packet(dataStream[i+1:])\n",
    "                    right = detect_longest_balanced_packet(dataStream[0:i])\n",
    "\n",
    "                    if max(len(left), len(right)) > 1:\n",
    "\n",
    "                        if len(left) > len(right):\n",
    "                            return left\n",
    "                        else:\n",
    "                            return right\n",
    "                    else: \n",
    "                        return ''\n",
    "                \n",
    "            if dataStream[i].islower():\n",
    "                x = dataStream[i].upper()\n",
    "                if x in dataStream:\n",
    "                    continue\n",
    "                else:\n",
    "                    left = detect_longest_balanced_packet(dataStream[i+1:])\n",
    "                    right = detect_longest_balanced_packet(dataStream[0:i])\n",
    "    \n",
    "                    if max(len(left), len(right)) > 1:\n",
    "                        if len(left) > len(right):\n",
    "                            return left\n",
    "                        else:\n",
    "                            return right\n",
    "                    else: \n",
    "                        return ''\n",
    "\n",
    "\n",
    "    return dataStream\n",
    "\n",
    "\n",
    "    \n",
    "\n",
    "\n",
    "\n",
    "\n"
   ]
  },
  {
   "cell_type": "code",
   "execution_count": 45,
   "metadata": {},
   "outputs": [
    {
     "name": "stdout",
     "output_type": "stream",
     "text": [
      "aAbBcC\n"
     ]
    }
   ],
   "source": [
    "input = 'zPaAbBcCd'\n",
    "output = 'aAbBcC'\n",
    "\n",
    "print(detect_longest_balanced_packet(input))\n",
    "\n",
    "\n",
    "# assert detect_longest_balanced_packet(input) == output "
   ]
  },
  {
   "cell_type": "code",
   "execution_count": 47,
   "metadata": {},
   "outputs": [],
   "source": [
    "input = 'AaBb'\n",
    "output = 'AaBb'\n",
    "\n",
    "\n",
    "assert detect_longest_balanced_packet(input) == output "
   ]
  },
  {
   "cell_type": "code",
   "execution_count": 46,
   "metadata": {},
   "outputs": [
    {
     "name": "stdout",
     "output_type": "stream",
     "text": [
      "\n"
     ]
    }
   ],
   "source": [
    "input = 'cD'\n",
    "output = ''\n",
    "\n",
    "print(detect_longest_balanced_packet(input) )\n",
    "# assert detect_longest_balanced_packet(input) == output "
   ]
  },
  {
   "cell_type": "code",
   "execution_count": null,
   "metadata": {},
   "outputs": [],
   "source": []
  }
 ],
 "metadata": {
  "kernelspec": {
   "display_name": ".venv",
   "language": "python",
   "name": "python3"
  },
  "language_info": {
   "codemirror_mode": {
    "name": "ipython",
    "version": 3
   },
   "file_extension": ".py",
   "mimetype": "text/x-python",
   "name": "python",
   "nbconvert_exporter": "python",
   "pygments_lexer": "ipython3",
   "version": "3.10.12"
  }
 },
 "nbformat": 4,
 "nbformat_minor": 2
}
