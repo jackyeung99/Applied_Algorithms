{
 "cells": [
  {
   "cell_type": "code",
   "execution_count": null,
   "metadata": {},
   "outputs": [],
   "source": [
    "from typing import List\n",
    "\n",
    "def convertTemperature(celsius: float) -> List[float]:\n",
    "\n",
    "  if 0 <= celsius <= 1000:\n",
    "    fahrenheit = (9/5) * celsius + 32.00\n",
    "    kelvin = celsius + 273.15\n",
    "\n",
    "    return [float(format(kelvin, '.5f')), float(format(fahrenheit, '.5f'))]\n",
    "\n"
   ]
  },
  {
   "cell_type": "code",
   "execution_count": null,
   "metadata": {},
   "outputs": [],
   "source": [
    "test_1 = 36.50\n",
    "result_1 = convertTemperature(test_1)\n",
    "print(result_1)\n",
    "assert result_1 == [309.65000,97.70000]"
   ]
  },
  {
   "cell_type": "code",
   "execution_count": null,
   "metadata": {},
   "outputs": [],
   "source": [
    "test_2 = 122.11\n",
    "result_2 = convertTemperature(test_2)\n",
    "print(result_2)\n",
    "assert result_2 == [395.26000,251.79800], print(result_2)"
   ]
  }
 ],
 "metadata": {
  "language_info": {
   "name": "python"
  }
 },
 "nbformat": 4,
 "nbformat_minor": 2
}
