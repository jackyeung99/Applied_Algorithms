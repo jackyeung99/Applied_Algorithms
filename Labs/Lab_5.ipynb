{
 "cells": [
  {
   "cell_type": "code",
   "execution_count": 45,
   "metadata": {},
   "outputs": [],
   "source": [
    "def find_all_teams(ids):\n",
    "    result = [[]]\n",
    "\n",
    "    def find_combinations(ind, a):    \n",
    "        for j in range(ind, len(ids)):\n",
    "            a.append(ids[j])\n",
    "            result.append(a[:])\n",
    "            find_combinations(j + 1, a)\n",
    "            a.pop()\n",
    "\n",
    "\n",
    "    find_combinations(ind=0, a=[])\n",
    "    return sorted(result)\n",
    "\n"
   ]
  },
  {
   "cell_type": "code",
   "execution_count": 46,
   "metadata": {},
   "outputs": [
    {
     "name": "stdout",
     "output_type": "stream",
     "text": [
      "[[], [31]]\n"
     ]
    }
   ],
   "source": [
    "input = [31]\n",
    "print(find_all_teams(input))"
   ]
  },
  {
   "cell_type": "code",
   "execution_count": 47,
   "metadata": {},
   "outputs": [
    {
     "name": "stdout",
     "output_type": "stream",
     "text": [
      "[[], [1011], [1011, 2137], [1011, 2137, 9491], [1011, 9491], [2137], [2137, 9491], [9491]]\n"
     ]
    }
   ],
   "source": [
    "input = [1011, 2137, 9491]\n",
    "print(find_all_teams(input))"
   ]
  }
 ],
 "metadata": {
  "kernelspec": {
   "display_name": ".venv",
   "language": "python",
   "name": "python3"
  },
  "language_info": {
   "codemirror_mode": {
    "name": "ipython",
    "version": 3
   },
   "file_extension": ".py",
   "mimetype": "text/x-python",
   "name": "python",
   "nbconvert_exporter": "python",
   "pygments_lexer": "ipython3",
   "version": "3.10.12"
  }
 },
 "nbformat": 4,
 "nbformat_minor": 2
}
