{
 "cells": [
  {
   "cell_type": "code",
   "execution_count": 73,
   "metadata": {},
   "outputs": [],
   "source": [
    "def findThreeSum(prices):\n",
    "    prices.sort()\n",
    "    output = []\n",
    "    for i in range(len(prices)):\n",
    "\n",
    "        if i > 0 and prices[i] == prices[i - 1]:\n",
    "            continue\n",
    "\n",
    "        j = i + 1\n",
    "        k = len(prices) -1 \n",
    "\n",
    "        while j < k:\n",
    "            # print(i, j, k)\n",
    "            \n",
    "\n",
    "            triplet = [prices[i], prices[j], prices[k]]\n",
    "            tuple_sum = sum(triplet)\n",
    "\n",
    "            if tuple_sum < 0:\n",
    "                j += 1\n",
    "            elif tuple_sum > 0:\n",
    "                k -= 1\n",
    "            else:\n",
    "                output.append([prices[i], prices[j], prices[k]])\n",
    "\n",
    "                while j < k and prices[j] == prices[j + 1]:\n",
    "                    j += 1\n",
    "                while j < k and prices[k] == prices[k - 1]:\n",
    "                    k -= 1\n",
    "                \n",
    "                j += 1\n",
    "                k -= 1\n",
    "            \n",
    "                \n",
    "\n",
    "            \n",
    "    return output\n",
    "\n",
    "\n",
    "\n",
    "\n"
   ]
  },
  {
   "cell_type": "code",
   "execution_count": 74,
   "metadata": {},
   "outputs": [
    {
     "name": "stdout",
     "output_type": "stream",
     "text": [
      "[[-1, -1, 2], [-1, 0, 1]]\n"
     ]
    }
   ],
   "source": [
    "prices = [-1, 0, 1, 2, -1, -4]\n",
    "print(findThreeSum(prices))\n",
    "\n",
    "\n",
    "\n"
   ]
  },
  {
   "cell_type": "code",
   "execution_count": 75,
   "metadata": {},
   "outputs": [
    {
     "name": "stdout",
     "output_type": "stream",
     "text": [
      "[[-3, 0, 3], [-3, 1, 2], [-2, -1, 3], [-2, 0, 2], [-2, 1, 1], [-1, -1, 2], [-1, 0, 1]]\n"
     ]
    }
   ],
   "source": [
    "prices =  [-3, 3, 0, -2, 2, 1, -1, 1, -1, -1 ]\n",
    "\n",
    "print(findThreeSum(prices))"
   ]
  }
 ],
 "metadata": {
  "kernelspec": {
   "display_name": ".venv",
   "language": "python",
   "name": "python3"
  },
  "language_info": {
   "codemirror_mode": {
    "name": "ipython",
    "version": 3
   },
   "file_extension": ".py",
   "mimetype": "text/x-python",
   "name": "python",
   "nbconvert_exporter": "python",
   "pygments_lexer": "ipython3",
   "version": "3.10.12"
  }
 },
 "nbformat": 4,
 "nbformat_minor": 2
}
