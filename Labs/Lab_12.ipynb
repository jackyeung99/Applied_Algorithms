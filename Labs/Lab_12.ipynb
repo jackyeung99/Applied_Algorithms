{
 "cells": [
  {
   "cell_type": "code",
   "execution_count": 49,
   "metadata": {},
   "outputs": [],
   "source": [
    "from collections import deque"
   ]
  },
  {
   "cell_type": "code",
   "execution_count": null,
   "metadata": {},
   "outputs": [],
   "source": [
    "def minKnightMoves(n, sx, sy, tx, ty):\n",
    "    \"\"\"\n",
    "    Finds the minimum steps required for a knight to reach the target position on an n x n chessb\n",
    "    Parameters:\n",
    "    n (int): Size of the chessboard.\n",
    "    sx (int): Starting x-coordinate.\n",
    "    sy (int): Starting y-coordinate.\n",
    "    tx (int): Target x-coordinate.\n",
    "    ty (int): Target y-coordinate.\n",
    "    Returns:\n",
    "    int: Minimum steps to reach the target, or -1 if unreachable.\n",
    "    \"\"\"\n",
    "    \n",
    "    directions = [\n",
    "        (2, 1), (2, -1), # up \n",
    "        (-2, 1), (-2, -1), # down\n",
    "        (1, 2), (-1, 2), # right\n",
    "        (1, -2), (-1, -2) # left\n",
    "                     ] \n",
    "\n",
    "    visited = [[False for _ in range(n+1)] for _ in range(n+1)]\n",
    "    queue = deque([(sx, sy, 0)])\n",
    "\n",
    "    while queue:    \n",
    "\n",
    "        x, y, path = queue.popleft()\n",
    "\n",
    "        # print(x, y)\n",
    "        visited[x][y] = True\n",
    "\n",
    "        if (x, y) == (tx, ty):\n",
    "            return path\n",
    "\n",
    "\n",
    "        for dx, dy in directions:\n",
    "\n",
    "            \n",
    "            new_x = x + dx \n",
    "            new_y = y + dy\n",
    "\n",
    "\n",
    "            if 0 <= new_x < n and 0 <= new_y < n and not visited[new_x][new_y]:\n",
    "                visited[new_x][new_y] = True \n",
    "                queue.append((new_x, new_y, path+1))\n",
    "\n",
    "\n",
    "    return -1 \n"
   ]
  },
  {
   "cell_type": "code",
   "execution_count": 51,
   "metadata": {},
   "outputs": [
    {
     "name": "stdout",
     "output_type": "stream",
     "text": [
      "4\n"
     ]
    }
   ],
   "source": [
    "n = 3\n",
    "sx, sy = 0, 0\n",
    "tx, ty = 2, 2\n",
    "\n",
    "\n",
    "print(minKnightMoves(n, sx, sy, tx, ty))"
   ]
  },
  {
   "cell_type": "code",
   "execution_count": 52,
   "metadata": {},
   "outputs": [
    {
     "name": "stdout",
     "output_type": "stream",
     "text": [
      "3\n"
     ]
    }
   ],
   "source": [
    "n = 8\n",
    "sx, sy = 0, 0\n",
    "tx, ty = 0, 1\n",
    "print(minKnightMoves(n, sx, sy, tx, ty))"
   ]
  },
  {
   "cell_type": "code",
   "execution_count": null,
   "metadata": {},
   "outputs": [],
   "source": []
  }
 ],
 "metadata": {
  "kernelspec": {
   "display_name": ".venv",
   "language": "python",
   "name": "python3"
  },
  "language_info": {
   "codemirror_mode": {
    "name": "ipython",
    "version": 3
   },
   "file_extension": ".py",
   "mimetype": "text/x-python",
   "name": "python",
   "nbconvert_exporter": "python",
   "pygments_lexer": "ipython3",
   "version": "3.10.12"
  }
 },
 "nbformat": 4,
 "nbformat_minor": 2
}
