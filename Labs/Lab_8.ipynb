{
 "cells": [
  {
   "cell_type": "markdown",
   "metadata": {},
   "source": []
  },
  {
   "cell_type": "code",
   "execution_count": 64,
   "metadata": {},
   "outputs": [],
   "source": [
    "import heapq\n",
    "\n",
    "def cutProductIds(s):\n",
    "# Your code here\n",
    "\n",
    "    s_list = [i for i in s]\n",
    "    heap = []\n",
    "    removal_ids = []\n",
    "\n",
    "    for i,char in enumerate(s):\n",
    "        if char == '#':\n",
    "            if heap:\n",
    "                removal_ids.append(heapq.heappop(heap)[1] * -1)\n",
    "        else:\n",
    "            heapq.heappush(heap, (char, i * -1))\n",
    " \n",
    "    print(removal_ids)\n",
    "\n",
    "    return ''.join([x for i,x in enumerate(s_list) if i not in removal_ids and x != '#'])"
   ]
  },
  {
   "cell_type": "code",
   "execution_count": 65,
   "metadata": {},
   "outputs": [
    {
     "name": "stdout",
     "output_type": "stream",
     "text": [
      "[3]\n",
      "bcb\n"
     ]
    }
   ],
   "source": [
    "input = 'bcbb#'\n",
    "print(cutProductIds(input))"
   ]
  },
  {
   "cell_type": "code",
   "execution_count": 66,
   "metadata": {},
   "outputs": [
    {
     "name": "stdout",
     "output_type": "stream",
     "text": [
      "[]\n",
      "yzx\n"
     ]
    }
   ],
   "source": [
    "input = 'yzx'\n",
    "print(cutProductIds(input))"
   ]
  },
  {
   "cell_type": "code",
   "execution_count": 67,
   "metadata": {},
   "outputs": [
    {
     "name": "stdout",
     "output_type": "stream",
     "text": [
      "[3, 2]\n",
      "bc\n"
     ]
    }
   ],
   "source": [
    "input = 'bcbb##'\n",
    "print(cutProductIds(input))"
   ]
  }
 ],
 "metadata": {
  "kernelspec": {
   "display_name": ".venv",
   "language": "python",
   "name": "python3"
  },
  "language_info": {
   "codemirror_mode": {
    "name": "ipython",
    "version": 3
   },
   "file_extension": ".py",
   "mimetype": "text/x-python",
   "name": "python",
   "nbconvert_exporter": "python",
   "pygments_lexer": "ipython3",
   "version": "3.10.12"
  }
 },
 "nbformat": 4,
 "nbformat_minor": 2
}
