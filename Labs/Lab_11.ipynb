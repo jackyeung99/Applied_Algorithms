{
 "cells": [
  {
   "cell_type": "code",
   "execution_count": null,
   "metadata": {},
   "outputs": [],
   "source": [
    "from typing import List\n",
    "from collections import deque\n",
    "\n",
    "def create_adjacency(list_of_edges, n):\n",
    "    matrix = [[0 for _ in range(n)] for _ in range(n)]\n",
    "    for i,j in list_of_edges:\n",
    "        matrix[i][j] = 1\n",
    "\n",
    "    return matrix\n",
    "\n",
    "\n",
    "\n",
    "def findHealthyCells(n: int, k: int, connections: List[List[int]]) -> List[int]:\n",
    "# Your implementation here\n",
    "    \n",
    "    infected = [0] * n\n",
    "    infected[k] = 1\n",
    "\n",
    "\n",
    "    adj = create_adjacency(connections, n)\n",
    "\n",
    "    queue = deque([k])\n",
    "    seen = []\n",
    "    first = True\n",
    "    while queue:\n",
    "        last = queue.popleft()\n",
    "        seen.append(last)\n",
    "\n",
    "        # loop through edges\n",
    "        for node in range(len(adj)):\n",
    "            if adj[last][node] == 1 and node not in seen:\n",
    "                queue.append(node)\n",
    "            \n",
    "        infected[last] = 1\n",
    "\n",
    "    print(infected)\n",
    "    for i, node in enumerate(infected):\n",
    "        if node == 1:\n",
    "            for k in range(len(adj)):\n",
    "                if adj[k][i] == 1 and infected[k] == 0:\n",
    "                    return list(range(n))\n",
    "\n",
    "    \n",
    "    return [n for n in range(len(infected)) if infected[n] == 0]  \n",
    "\n"
   ]
  },
  {
   "cell_type": "code",
   "execution_count": 77,
   "metadata": {},
   "outputs": [
    {
     "name": "stdout",
     "output_type": "stream",
     "text": [
      "[1, 1, 1, 0, 0]\n",
      "0 1\n",
      "1 1\n",
      "2 1\n",
      "3 0\n",
      "4 0\n",
      "[3, 4]\n"
     ]
    }
   ],
   "source": [
    "n = 5\n",
    "k = 0\n",
    "connections = [[1,2],[0,2],[0,1],[3,4]]\n",
    "\n",
    "print(findHealthyCells(n, k, connections))"
   ]
  },
  {
   "cell_type": "code",
   "execution_count": 78,
   "metadata": {},
   "outputs": [
    {
     "name": "stdout",
     "output_type": "stream",
     "text": [
      "[1, 1, 1]\n",
      "0 1\n",
      "1 1\n",
      "2 1\n",
      "[]\n"
     ]
    }
   ],
   "source": [
    "n = 3\n",
    "k = 2\n",
    "connections = [[1,2],[0,1],[2,0]]\n",
    "\n",
    "print(findHealthyCells(n, k, connections))"
   ]
  },
  {
   "cell_type": "code",
   "execution_count": 79,
   "metadata": {},
   "outputs": [
    {
     "name": "stdout",
     "output_type": "stream",
     "text": [
      "[0, 1, 1, 0]\n",
      "0 0\n",
      "1 1\n",
      "[0, 1, 2, 3]\n"
     ]
    }
   ],
   "source": [
    "n= 4\n",
    "k = 1\n",
    "connections = [[1,2],[0,1],[3,2]]\n",
    "print(findHealthyCells(n, k, connections))"
   ]
  },
  {
   "cell_type": "code",
   "execution_count": 80,
   "metadata": {},
   "outputs": [
    {
     "name": "stdout",
     "output_type": "stream",
     "text": [
      "[0, 1, 1, 0]\n",
      "0 0\n",
      "1 1\n",
      "[0, 1, 2, 3]\n"
     ]
    }
   ],
   "source": [
    "n = 4\n",
    "k = 1\n",
    "connections = [[1,2],[0,1],[3,2]]\n",
    "print(findHealthyCells(n, k, connections))"
   ]
  },
  {
   "cell_type": "code",
   "execution_count": 81,
   "metadata": {},
   "outputs": [
    {
     "name": "stdout",
     "output_type": "stream",
     "text": [
      "[1, 0, 1]\n",
      "0 1\n",
      "[0, 1, 2]\n"
     ]
    }
   ],
   "source": [
    "n = 3\n",
    "k = 2\n",
    "connections = [[1,\n",
    "            0\n",
    "        ],\n",
    "        [\n",
    "            2,\n",
    "            0\n",
    "        ]\n",
    "    ]\n",
    "print(findHealthyCells(n, k, connections))"
   ]
  },
  {
   "cell_type": "code",
   "execution_count": null,
   "metadata": {},
   "outputs": [],
   "source": []
  }
 ],
 "metadata": {
  "kernelspec": {
   "display_name": ".venv",
   "language": "python",
   "name": "python3"
  },
  "language_info": {
   "codemirror_mode": {
    "name": "ipython",
    "version": 3
   },
   "file_extension": ".py",
   "mimetype": "text/x-python",
   "name": "python",
   "nbconvert_exporter": "python",
   "pygments_lexer": "ipython3",
   "version": "3.10.12"
  }
 },
 "nbformat": 4,
 "nbformat_minor": 2
}
